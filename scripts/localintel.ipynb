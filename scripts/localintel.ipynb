{
 "cells": [
  {
   "cell_type": "code",
   "execution_count": null,
   "id": "initial_id",
   "metadata": {
    "collapsed": true
   },
   "outputs": [],
   "source": []
  },
  {
   "cell_type": "code",
   "execution_count": 1,
   "outputs": [
    {
     "ename": "SyntaxError",
     "evalue": "invalid syntax (executor.py, line 160)",
     "output_type": "error",
     "traceback": [
      "Traceback \u001B[0;36m(most recent call last)\u001B[0m:\n",
      "\u001B[0m  File \u001B[1;32m/opt/homebrew/anaconda3/envs/graphrag/lib/python3.8/site-packages/IPython/core/interactiveshell.py:3508\u001B[0m in \u001B[1;35mrun_code\u001B[0m\n    exec(code_obj, self.user_global_ns, self.user_ns)\u001B[0m\n",
      "\u001B[0m  Cell \u001B[1;32mIn[1], line 9\u001B[0m\n    from ragas import evaluate\u001B[0m\n",
      "\u001B[0m  File \u001B[1;32m/opt/homebrew/anaconda3/envs/graphrag/lib/python3.8/site-packages/ragas/__init__.py:2\u001B[0m\n    from ragas.evaluation import evaluate\u001B[0m\n",
      "\u001B[0;36m  File \u001B[0;32m/opt/homebrew/anaconda3/envs/graphrag/lib/python3.8/site-packages/ragas/evaluation.py:24\u001B[0;36m\n\u001B[0;31m    from ragas.executor import Executor\u001B[0;36m\n",
      "\u001B[0;36m  File \u001B[0;32m/opt/homebrew/anaconda3/envs/graphrag/lib/python3.8/site-packages/ragas/executor.py:160\u001B[0;36m\u001B[0m\n\u001B[0;31m    ) as overall_pbar,\u001B[0m\n\u001B[0m      ^\u001B[0m\n\u001B[0;31mSyntaxError\u001B[0m\u001B[0;31m:\u001B[0m invalid syntax\n"
     ]
    }
   ],
   "source": [
    "import os\n",
    "import sys\n",
    "import json\n",
    "import openai\n",
    "# import evaluate\n",
    "import pandas as pd\n",
    "from datasets import Dataset\n",
    "# from dotenv import load_dotenv\n",
    "from ragas import evaluate\n",
    "from ragas.metrics import AnswerSimilarity"
   ],
   "metadata": {
    "collapsed": false,
    "ExecuteTime": {
     "end_time": "2025-03-12T03:32:47.650205Z",
     "start_time": "2025-03-12T03:32:46.357991Z"
    }
   },
   "id": "d65fa8a78d8f73aa"
  },
  {
   "cell_type": "code",
   "execution_count": null,
   "outputs": [],
   "source": [],
   "metadata": {
    "collapsed": false
   },
   "id": "49121b585368457e"
  }
 ],
 "metadata": {
  "kernelspec": {
   "name": "python310",
   "language": "python",
   "display_name": "Python 3.10.13"
  },
  "language_info": {
   "codemirror_mode": {
    "name": "ipython",
    "version": 2
   },
   "file_extension": ".py",
   "mimetype": "text/x-python",
   "name": "python",
   "nbconvert_exporter": "python",
   "pygments_lexer": "ipython2",
   "version": "2.7.6"
  }
 },
 "nbformat": 4,
 "nbformat_minor": 5
}
